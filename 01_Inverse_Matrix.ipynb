{
  "nbformat": 4,
  "nbformat_minor": 0,
  "metadata": {
    "colab": {
      "provenance": []
    },
    "kernelspec": {
      "name": "python3",
      "display_name": "Python 3"
    },
    "language_info": {
      "name": "python"
    }
  },
  "cells": [
    {
      "cell_type": "code",
      "execution_count": 48,
      "metadata": {
        "id": "lzmDWTQnTNXs"
      },
      "outputs": [],
      "source": [
        "import sympy"
      ]
    },
    {
      "cell_type": "code",
      "source": [
        "def inverse(A):\n",
        "    assert A.cols == 3 and A.rows == 3\n",
        "\n",
        "    C = cofactor_matrix(A)\n",
        "\n",
        "    det = 0\n",
        "    for i in range(3):\n",
        "        det += A[0, i] * C[0, i]\n",
        "\n",
        "    if det == 0:\n",
        "        return None\n",
        "\n",
        "    return transpose(C) / det\n",
        "\n",
        "\n",
        "def transpose(A):\n",
        "    A_t = A.copy()\n",
        "    for i in range(3):\n",
        "        for j in range(i + 1, 3):\n",
        "            A_t[i, j], A_t[j, i] = A_t[j, i], A_t[i, j]\n",
        "    return A_t\n",
        "\n",
        "\n",
        "def cofactor_matrix(A):\n",
        "    return sympy.Matrix([[cofactor(A, r, c) for c in range(3)] for r in range(3)])\n",
        "\n",
        "\n",
        "def cofactor(A, i, j):\n",
        "    S = submatrix(A, i, j)\n",
        "    sgn = (-1) ** (i + j)\n",
        "    return sgn * (S[0, 0] * S[1, 1] - S[0, 1] * S[1, 0])\n",
        "\n",
        "\n",
        "def submatrix(A, i, j):\n",
        "    return sympy.Matrix([[A[r, c] for c in range(3) if c != j] for r in range(3) if r != i])"
      ],
      "metadata": {
        "id": "nuPyobOKUN9Y"
      },
      "execution_count": 41,
      "outputs": []
    },
    {
      "cell_type": "code",
      "source": [
        "A = sympy.Matrix([\n",
        "    [2, 5, 7],\n",
        "    [6, 3, 4],\n",
        "    [5, -2, -3],\n",
        "])\n",
        "\n",
        "A_inv = inverse(A)\n",
        "\n",
        "display(A, A_inv, A*A_inv)\n"
      ],
      "metadata": {
        "colab": {
          "base_uri": "https://localhost:8080/",
          "height": 200
        },
        "id": "qsO3iv4va9Lc",
        "outputId": "fe2ee13e-d91c-4626-c39a-3098e5bd77f1"
      },
      "execution_count": 57,
      "outputs": [
        {
          "output_type": "display_data",
          "data": {
            "text/plain": [
              "⎡2  5   7 ⎤\n",
              "⎢         ⎥\n",
              "⎢6  3   4 ⎥\n",
              "⎢         ⎥\n",
              "⎣5  -2  -3⎦"
            ],
            "text/latex": "$\\displaystyle \\left[\\begin{matrix}2 & 5 & 7\\\\6 & 3 & 4\\\\5 & -2 & -3\\end{matrix}\\right]$"
          },
          "metadata": {}
        },
        {
          "output_type": "display_data",
          "data": {
            "text/plain": [
              "⎡ 1   -1    1 ⎤\n",
              "⎢             ⎥\n",
              "⎢-38  41   -34⎥\n",
              "⎢             ⎥\n",
              "⎣27   -29  24 ⎦"
            ],
            "text/latex": "$\\displaystyle \\left[\\begin{matrix}1 & -1 & 1\\\\-38 & 41 & -34\\\\27 & -29 & 24\\end{matrix}\\right]$"
          },
          "metadata": {}
        },
        {
          "output_type": "display_data",
          "data": {
            "text/plain": [
              "⎡1  0  0⎤\n",
              "⎢       ⎥\n",
              "⎢0  1  0⎥\n",
              "⎢       ⎥\n",
              "⎣0  0  1⎦"
            ],
            "text/latex": "$\\displaystyle \\left[\\begin{matrix}1 & 0 & 0\\\\0 & 1 & 0\\\\0 & 0 & 1\\end{matrix}\\right]$"
          },
          "metadata": {}
        }
      ]
    }
  ]
}