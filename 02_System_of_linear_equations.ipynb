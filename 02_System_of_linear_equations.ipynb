{
  "nbformat": 4,
  "nbformat_minor": 0,
  "metadata": {
    "colab": {
      "provenance": []
    },
    "kernelspec": {
      "name": "python3",
      "display_name": "Python 3"
    },
    "language_info": {
      "name": "python"
    }
  },
  "cells": [
    {
      "cell_type": "code",
      "source": [
        "import sympy\n",
        "import itertools"
      ],
      "metadata": {
        "id": "nt8y8l9XyZvw"
      },
      "execution_count": 5,
      "outputs": []
    },
    {
      "cell_type": "code",
      "execution_count": 22,
      "metadata": {
        "id": "UR3J44XUyUWA"
      },
      "outputs": [],
      "source": [
        "def inverse(A):\n",
        "    assert A.cols == 3 and A.rows == 3\n",
        "\n",
        "    C = cofactor_matrix(A)\n",
        "\n",
        "    det = 0\n",
        "    for i in range(3):\n",
        "        det += A[0, i] * C[0, i]\n",
        "\n",
        "    if det == 0:\n",
        "        return None\n",
        "\n",
        "    return transpose(C) / det\n",
        "\n",
        "\n",
        "def transpose(A):\n",
        "    A_t = A.copy()\n",
        "    for i in range(3):\n",
        "        for j in range(i + 1, 3):\n",
        "            A_t[i, j], A_t[j, i] = A_t[j, i], A_t[i, j]\n",
        "    return A_t\n",
        "\n",
        "\n",
        "def cofactor_matrix(A):\n",
        "    return sympy.Matrix([[cofactor(A, r, c) for c in range(3)] for r in range(3)])\n",
        "\n",
        "\n",
        "def cofactor(A, i, j):\n",
        "    S = submatrix(A, i, j)\n",
        "    sgn = (-1) ** (i + j)\n",
        "    return sgn * (S[0, 0] * S[1, 1] - S[0, 1] * S[1, 0])\n",
        "\n",
        "\n",
        "def submatrix(A, i, j):\n",
        "    return sympy.Matrix([[A[r, c] for c in range(3) if c != j] for r in range(3) if r != i])\n",
        "\n",
        "\n",
        "def cofactor(A, i, j):\n",
        "    S = submatrix(A, i, j)\n",
        "    sgn = (-1) ** (i + j)\n",
        "    return sgn * (S[0, 0] * S[1, 1] - S[0, 1] * S[1, 0])\n",
        "\n",
        "\n",
        "def det(A):\n",
        "    det = 0\n",
        "    C = cofactor_matrix(A)\n",
        "    for i in range(3):\n",
        "        det += A[0, i] * C[0, i]\n",
        "    return det"
      ]
    },
    {
      "cell_type": "code",
      "source": [
        "def solve_inverse(A, b):\n",
        "    assert A.cols == 3 and A.rows == 3 and b.rows == 3\n",
        "\n",
        "    A_inv = inverse(A)\n",
        "    if A_inv is None:\n",
        "        return None\n",
        "\n",
        "    return A_inv * b\n"
      ],
      "metadata": {
        "id": "kebOZsMKyzmr"
      },
      "execution_count": 23,
      "outputs": []
    },
    {
      "cell_type": "code",
      "source": [
        "A = sympy.Matrix([\n",
        "    [2, 1, 0],\n",
        "    [1, 0, 3],\n",
        "    [0, 5, -1],\n",
        "])\n",
        "b = sympy.Matrix([5, 16, 10])\n",
        "display(solve_inverse(A, b))"
      ],
      "metadata": {
        "colab": {
          "base_uri": "https://localhost:8080/",
          "height": 78
        },
        "id": "lQnwpe8h1D6c",
        "outputId": "8a28351f-4d2e-487b-de3f-c9892e046a39"
      },
      "execution_count": 24,
      "outputs": [
        {
          "output_type": "display_data",
          "data": {
            "text/plain": [
              "Matrix([\n",
              "[1],\n",
              "[3],\n",
              "[5]])"
            ],
            "text/latex": "$\\displaystyle \\left[\\begin{matrix}1\\\\3\\\\5\\end{matrix}\\right]$"
          },
          "metadata": {}
        }
      ]
    },
    {
      "cell_type": "code",
      "source": [
        "def solve_cramers_rule(A, b):\n",
        "    assert A.cols == 3 and A.rows == 3 and b.rows == 3\n",
        "\n",
        "    A_det = det(A)\n",
        "    if det == 0:\n",
        "        return None\n",
        "\n",
        "    result = list()\n",
        "    for i in range(A.cols):\n",
        "        A_i = A.copy()\n",
        "        A_i[:, i] = b\n",
        "        result.append(det(A_i) / A_det)\n",
        "\n",
        "    return result\n"
      ],
      "metadata": {
        "id": "23gmh24m1Wj7"
      },
      "execution_count": 28,
      "outputs": []
    },
    {
      "cell_type": "code",
      "source": [
        "A = sympy.Matrix([\n",
        "    [2, 1, 0],\n",
        "    [1, 0, 3],\n",
        "    [0, 5, -1],\n",
        "])\n",
        "b = sympy.Matrix([5, 16, 10])\n",
        "display(solve_cramers_rule(A, b))"
      ],
      "metadata": {
        "colab": {
          "base_uri": "https://localhost:8080/",
          "height": 35
        },
        "id": "6VaBp0Wi2i0a",
        "outputId": "00833176-988f-4b0a-e4c4-ed2cd4a49e2b"
      },
      "execution_count": 29,
      "outputs": [
        {
          "output_type": "display_data",
          "data": {
            "text/plain": [
              "[1, 3, 5]"
            ]
          },
          "metadata": {}
        }
      ]
    }
  ]
}